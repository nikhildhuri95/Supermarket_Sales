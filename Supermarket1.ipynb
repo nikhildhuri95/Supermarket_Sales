{
  "nbformat": 4,
  "nbformat_minor": 0,
  "metadata": {
    "colab": {
      "provenance": [],
      "toc_visible": true,
      "authorship_tag": "ABX9TyN7vSosqQzleoIN4s2kNn9b",
      "include_colab_link": true
    },
    "kernelspec": {
      "name": "python3",
      "display_name": "Python 3"
    },
    "language_info": {
      "name": "python"
    }
  },
  "cells": [
    {
      "cell_type": "markdown",
      "metadata": {
        "id": "view-in-github",
        "colab_type": "text"
      },
      "source": [
        "<a href=\"https://colab.research.google.com/github/nikhildhuri95/Supermarket_Sales/blob/main/Supermarket1.ipynb\" target=\"_parent\"><img src=\"https://colab.research.google.com/assets/colab-badge.svg\" alt=\"Open In Colab\"/></a>"
      ]
    },
    {
      "cell_type": "markdown",
      "source": [
        "# Data Loading"
      ],
      "metadata": {
        "id": "XmSoRNUmlj9o"
      }
    },
    {
      "cell_type": "code",
      "execution_count": 310,
      "metadata": {
        "id": "WUqjryD9slXh"
      },
      "outputs": [],
      "source": [
        "import pandas as pd\n",
        "import numpy as np\n",
        "import matplotlib.pyplot as plt\n",
        "import seaborn as sns"
      ]
    },
    {
      "cell_type": "code",
      "source": [
        "data = pd.read_csv('/content/supermarket_sales - Sheet1.csv')\n",
        "data.head()"
      ],
      "metadata": {
        "colab": {
          "base_uri": "https://localhost:8080/",
          "height": 391
        },
        "id": "QIFX8C-fsv7M",
        "outputId": "3e05a6d3-68fd-4887-da0e-9a751db644ff"
      },
      "execution_count": 311,
      "outputs": [
        {
          "output_type": "execute_result",
          "data": {
            "text/plain": [
              "    Invoice ID Branch       City Customer type  Gender  \\\n",
              "0  750-67-8428      A     Yangon        Member  Female   \n",
              "1  226-31-3081      C  Naypyitaw        Normal  Female   \n",
              "2  631-41-3108      A     Yangon        Normal    Male   \n",
              "3  123-19-1176      A     Yangon        Member    Male   \n",
              "4  373-73-7910      A     Yangon        Normal    Male   \n",
              "\n",
              "             Product line  Unit price  Quantity   Tax 5%     Total  \\\n",
              "0       Health and beauty       74.69         7  26.1415  548.9715   \n",
              "1  Electronic accessories       15.28         5   3.8200   80.2200   \n",
              "2      Home and lifestyle       46.33         7  16.2155  340.5255   \n",
              "3       Health and beauty       58.22         8  23.2880  489.0480   \n",
              "4       Sports and travel       86.31         7  30.2085  634.3785   \n",
              "\n",
              "         Date   Time      Payment    cogs  gross margin percentage  \\\n",
              "0  01-05-2019  13:08      Ewallet  522.83                 4.761905   \n",
              "1  03-08-2019  10:29         Cash   76.40                 4.761905   \n",
              "2  03-03-2019  13:23  Credit card  324.31                 4.761905   \n",
              "3   1/27/2019  20:33      Ewallet  465.76                 4.761905   \n",
              "4  02-08-2019  10:37      Ewallet  604.17                 4.761905   \n",
              "\n",
              "   gross income  Rating  \n",
              "0       26.1415     9.1  \n",
              "1        3.8200     9.6  \n",
              "2       16.2155     7.4  \n",
              "3       23.2880     8.4  \n",
              "4       30.2085     5.3  "
            ],
            "text/html": [
              "\n",
              "  <div id=\"df-48d761d9-b407-4e14-ba0c-c9f2eeae9808\">\n",
              "    <div class=\"colab-df-container\">\n",
              "      <div>\n",
              "<style scoped>\n",
              "    .dataframe tbody tr th:only-of-type {\n",
              "        vertical-align: middle;\n",
              "    }\n",
              "\n",
              "    .dataframe tbody tr th {\n",
              "        vertical-align: top;\n",
              "    }\n",
              "\n",
              "    .dataframe thead th {\n",
              "        text-align: right;\n",
              "    }\n",
              "</style>\n",
              "<table border=\"1\" class=\"dataframe\">\n",
              "  <thead>\n",
              "    <tr style=\"text-align: right;\">\n",
              "      <th></th>\n",
              "      <th>Invoice ID</th>\n",
              "      <th>Branch</th>\n",
              "      <th>City</th>\n",
              "      <th>Customer type</th>\n",
              "      <th>Gender</th>\n",
              "      <th>Product line</th>\n",
              "      <th>Unit price</th>\n",
              "      <th>Quantity</th>\n",
              "      <th>Tax 5%</th>\n",
              "      <th>Total</th>\n",
              "      <th>Date</th>\n",
              "      <th>Time</th>\n",
              "      <th>Payment</th>\n",
              "      <th>cogs</th>\n",
              "      <th>gross margin percentage</th>\n",
              "      <th>gross income</th>\n",
              "      <th>Rating</th>\n",
              "    </tr>\n",
              "  </thead>\n",
              "  <tbody>\n",
              "    <tr>\n",
              "      <th>0</th>\n",
              "      <td>750-67-8428</td>\n",
              "      <td>A</td>\n",
              "      <td>Yangon</td>\n",
              "      <td>Member</td>\n",
              "      <td>Female</td>\n",
              "      <td>Health and beauty</td>\n",
              "      <td>74.69</td>\n",
              "      <td>7</td>\n",
              "      <td>26.1415</td>\n",
              "      <td>548.9715</td>\n",
              "      <td>01-05-2019</td>\n",
              "      <td>13:08</td>\n",
              "      <td>Ewallet</td>\n",
              "      <td>522.83</td>\n",
              "      <td>4.761905</td>\n",
              "      <td>26.1415</td>\n",
              "      <td>9.1</td>\n",
              "    </tr>\n",
              "    <tr>\n",
              "      <th>1</th>\n",
              "      <td>226-31-3081</td>\n",
              "      <td>C</td>\n",
              "      <td>Naypyitaw</td>\n",
              "      <td>Normal</td>\n",
              "      <td>Female</td>\n",
              "      <td>Electronic accessories</td>\n",
              "      <td>15.28</td>\n",
              "      <td>5</td>\n",
              "      <td>3.8200</td>\n",
              "      <td>80.2200</td>\n",
              "      <td>03-08-2019</td>\n",
              "      <td>10:29</td>\n",
              "      <td>Cash</td>\n",
              "      <td>76.40</td>\n",
              "      <td>4.761905</td>\n",
              "      <td>3.8200</td>\n",
              "      <td>9.6</td>\n",
              "    </tr>\n",
              "    <tr>\n",
              "      <th>2</th>\n",
              "      <td>631-41-3108</td>\n",
              "      <td>A</td>\n",
              "      <td>Yangon</td>\n",
              "      <td>Normal</td>\n",
              "      <td>Male</td>\n",
              "      <td>Home and lifestyle</td>\n",
              "      <td>46.33</td>\n",
              "      <td>7</td>\n",
              "      <td>16.2155</td>\n",
              "      <td>340.5255</td>\n",
              "      <td>03-03-2019</td>\n",
              "      <td>13:23</td>\n",
              "      <td>Credit card</td>\n",
              "      <td>324.31</td>\n",
              "      <td>4.761905</td>\n",
              "      <td>16.2155</td>\n",
              "      <td>7.4</td>\n",
              "    </tr>\n",
              "    <tr>\n",
              "      <th>3</th>\n",
              "      <td>123-19-1176</td>\n",
              "      <td>A</td>\n",
              "      <td>Yangon</td>\n",
              "      <td>Member</td>\n",
              "      <td>Male</td>\n",
              "      <td>Health and beauty</td>\n",
              "      <td>58.22</td>\n",
              "      <td>8</td>\n",
              "      <td>23.2880</td>\n",
              "      <td>489.0480</td>\n",
              "      <td>1/27/2019</td>\n",
              "      <td>20:33</td>\n",
              "      <td>Ewallet</td>\n",
              "      <td>465.76</td>\n",
              "      <td>4.761905</td>\n",
              "      <td>23.2880</td>\n",
              "      <td>8.4</td>\n",
              "    </tr>\n",
              "    <tr>\n",
              "      <th>4</th>\n",
              "      <td>373-73-7910</td>\n",
              "      <td>A</td>\n",
              "      <td>Yangon</td>\n",
              "      <td>Normal</td>\n",
              "      <td>Male</td>\n",
              "      <td>Sports and travel</td>\n",
              "      <td>86.31</td>\n",
              "      <td>7</td>\n",
              "      <td>30.2085</td>\n",
              "      <td>634.3785</td>\n",
              "      <td>02-08-2019</td>\n",
              "      <td>10:37</td>\n",
              "      <td>Ewallet</td>\n",
              "      <td>604.17</td>\n",
              "      <td>4.761905</td>\n",
              "      <td>30.2085</td>\n",
              "      <td>5.3</td>\n",
              "    </tr>\n",
              "  </tbody>\n",
              "</table>\n",
              "</div>\n",
              "      <button class=\"colab-df-convert\" onclick=\"convertToInteractive('df-48d761d9-b407-4e14-ba0c-c9f2eeae9808')\"\n",
              "              title=\"Convert this dataframe to an interactive table.\"\n",
              "              style=\"display:none;\">\n",
              "        \n",
              "  <svg xmlns=\"http://www.w3.org/2000/svg\" height=\"24px\"viewBox=\"0 0 24 24\"\n",
              "       width=\"24px\">\n",
              "    <path d=\"M0 0h24v24H0V0z\" fill=\"none\"/>\n",
              "    <path d=\"M18.56 5.44l.94 2.06.94-2.06 2.06-.94-2.06-.94-.94-2.06-.94 2.06-2.06.94zm-11 1L8.5 8.5l.94-2.06 2.06-.94-2.06-.94L8.5 2.5l-.94 2.06-2.06.94zm10 10l.94 2.06.94-2.06 2.06-.94-2.06-.94-.94-2.06-.94 2.06-2.06.94z\"/><path d=\"M17.41 7.96l-1.37-1.37c-.4-.4-.92-.59-1.43-.59-.52 0-1.04.2-1.43.59L10.3 9.45l-7.72 7.72c-.78.78-.78 2.05 0 2.83L4 21.41c.39.39.9.59 1.41.59.51 0 1.02-.2 1.41-.59l7.78-7.78 2.81-2.81c.8-.78.8-2.07 0-2.86zM5.41 20L4 18.59l7.72-7.72 1.47 1.35L5.41 20z\"/>\n",
              "  </svg>\n",
              "      </button>\n",
              "      \n",
              "  <style>\n",
              "    .colab-df-container {\n",
              "      display:flex;\n",
              "      flex-wrap:wrap;\n",
              "      gap: 12px;\n",
              "    }\n",
              "\n",
              "    .colab-df-convert {\n",
              "      background-color: #E8F0FE;\n",
              "      border: none;\n",
              "      border-radius: 50%;\n",
              "      cursor: pointer;\n",
              "      display: none;\n",
              "      fill: #1967D2;\n",
              "      height: 32px;\n",
              "      padding: 0 0 0 0;\n",
              "      width: 32px;\n",
              "    }\n",
              "\n",
              "    .colab-df-convert:hover {\n",
              "      background-color: #E2EBFA;\n",
              "      box-shadow: 0px 1px 2px rgba(60, 64, 67, 0.3), 0px 1px 3px 1px rgba(60, 64, 67, 0.15);\n",
              "      fill: #174EA6;\n",
              "    }\n",
              "\n",
              "    [theme=dark] .colab-df-convert {\n",
              "      background-color: #3B4455;\n",
              "      fill: #D2E3FC;\n",
              "    }\n",
              "\n",
              "    [theme=dark] .colab-df-convert:hover {\n",
              "      background-color: #434B5C;\n",
              "      box-shadow: 0px 1px 3px 1px rgba(0, 0, 0, 0.15);\n",
              "      filter: drop-shadow(0px 1px 2px rgba(0, 0, 0, 0.3));\n",
              "      fill: #FFFFFF;\n",
              "    }\n",
              "  </style>\n",
              "\n",
              "      <script>\n",
              "        const buttonEl =\n",
              "          document.querySelector('#df-48d761d9-b407-4e14-ba0c-c9f2eeae9808 button.colab-df-convert');\n",
              "        buttonEl.style.display =\n",
              "          google.colab.kernel.accessAllowed ? 'block' : 'none';\n",
              "\n",
              "        async function convertToInteractive(key) {\n",
              "          const element = document.querySelector('#df-48d761d9-b407-4e14-ba0c-c9f2eeae9808');\n",
              "          const dataTable =\n",
              "            await google.colab.kernel.invokeFunction('convertToInteractive',\n",
              "                                                     [key], {});\n",
              "          if (!dataTable) return;\n",
              "\n",
              "          const docLinkHtml = 'Like what you see? Visit the ' +\n",
              "            '<a target=\"_blank\" href=https://colab.research.google.com/notebooks/data_table.ipynb>data table notebook</a>'\n",
              "            + ' to learn more about interactive tables.';\n",
              "          element.innerHTML = '';\n",
              "          dataTable['output_type'] = 'display_data';\n",
              "          await google.colab.output.renderOutput(dataTable, element);\n",
              "          const docLink = document.createElement('div');\n",
              "          docLink.innerHTML = docLinkHtml;\n",
              "          element.appendChild(docLink);\n",
              "        }\n",
              "      </script>\n",
              "    </div>\n",
              "  </div>\n",
              "  "
            ]
          },
          "metadata": {},
          "execution_count": 311
        }
      ]
    },
    {
      "cell_type": "code",
      "source": [
        "data.describe()"
      ],
      "metadata": {
        "colab": {
          "base_uri": "https://localhost:8080/",
          "height": 300
        },
        "id": "KNeIRdTQcSld",
        "outputId": "08cbf2cf-4db2-4a47-aae6-17ae866a9f91"
      },
      "execution_count": 312,
      "outputs": [
        {
          "output_type": "execute_result",
          "data": {
            "text/plain": [
              "        Unit price     Quantity       Tax 5%        Total        cogs  \\\n",
              "count  1000.000000  1000.000000  1000.000000  1000.000000  1000.00000   \n",
              "mean     55.672130     5.510000    15.379369   322.966749   307.58738   \n",
              "std      26.494628     2.923431    11.708825   245.885335   234.17651   \n",
              "min      10.080000     1.000000     0.508500    10.678500    10.17000   \n",
              "25%      32.875000     3.000000     5.924875   124.422375   118.49750   \n",
              "50%      55.230000     5.000000    12.088000   253.848000   241.76000   \n",
              "75%      77.935000     8.000000    22.445250   471.350250   448.90500   \n",
              "max      99.960000    10.000000    49.650000  1042.650000   993.00000   \n",
              "\n",
              "       gross margin percentage  gross income      Rating  \n",
              "count              1000.000000   1000.000000  1000.00000  \n",
              "mean                  4.761905     15.379369     6.97270  \n",
              "std                   0.000000     11.708825     1.71858  \n",
              "min                   4.761905      0.508500     4.00000  \n",
              "25%                   4.761905      5.924875     5.50000  \n",
              "50%                   4.761905     12.088000     7.00000  \n",
              "75%                   4.761905     22.445250     8.50000  \n",
              "max                   4.761905     49.650000    10.00000  "
            ],
            "text/html": [
              "\n",
              "  <div id=\"df-5a643493-7edb-4f14-8c50-1cbd16e76c27\">\n",
              "    <div class=\"colab-df-container\">\n",
              "      <div>\n",
              "<style scoped>\n",
              "    .dataframe tbody tr th:only-of-type {\n",
              "        vertical-align: middle;\n",
              "    }\n",
              "\n",
              "    .dataframe tbody tr th {\n",
              "        vertical-align: top;\n",
              "    }\n",
              "\n",
              "    .dataframe thead th {\n",
              "        text-align: right;\n",
              "    }\n",
              "</style>\n",
              "<table border=\"1\" class=\"dataframe\">\n",
              "  <thead>\n",
              "    <tr style=\"text-align: right;\">\n",
              "      <th></th>\n",
              "      <th>Unit price</th>\n",
              "      <th>Quantity</th>\n",
              "      <th>Tax 5%</th>\n",
              "      <th>Total</th>\n",
              "      <th>cogs</th>\n",
              "      <th>gross margin percentage</th>\n",
              "      <th>gross income</th>\n",
              "      <th>Rating</th>\n",
              "    </tr>\n",
              "  </thead>\n",
              "  <tbody>\n",
              "    <tr>\n",
              "      <th>count</th>\n",
              "      <td>1000.000000</td>\n",
              "      <td>1000.000000</td>\n",
              "      <td>1000.000000</td>\n",
              "      <td>1000.000000</td>\n",
              "      <td>1000.00000</td>\n",
              "      <td>1000.000000</td>\n",
              "      <td>1000.000000</td>\n",
              "      <td>1000.00000</td>\n",
              "    </tr>\n",
              "    <tr>\n",
              "      <th>mean</th>\n",
              "      <td>55.672130</td>\n",
              "      <td>5.510000</td>\n",
              "      <td>15.379369</td>\n",
              "      <td>322.966749</td>\n",
              "      <td>307.58738</td>\n",
              "      <td>4.761905</td>\n",
              "      <td>15.379369</td>\n",
              "      <td>6.97270</td>\n",
              "    </tr>\n",
              "    <tr>\n",
              "      <th>std</th>\n",
              "      <td>26.494628</td>\n",
              "      <td>2.923431</td>\n",
              "      <td>11.708825</td>\n",
              "      <td>245.885335</td>\n",
              "      <td>234.17651</td>\n",
              "      <td>0.000000</td>\n",
              "      <td>11.708825</td>\n",
              "      <td>1.71858</td>\n",
              "    </tr>\n",
              "    <tr>\n",
              "      <th>min</th>\n",
              "      <td>10.080000</td>\n",
              "      <td>1.000000</td>\n",
              "      <td>0.508500</td>\n",
              "      <td>10.678500</td>\n",
              "      <td>10.17000</td>\n",
              "      <td>4.761905</td>\n",
              "      <td>0.508500</td>\n",
              "      <td>4.00000</td>\n",
              "    </tr>\n",
              "    <tr>\n",
              "      <th>25%</th>\n",
              "      <td>32.875000</td>\n",
              "      <td>3.000000</td>\n",
              "      <td>5.924875</td>\n",
              "      <td>124.422375</td>\n",
              "      <td>118.49750</td>\n",
              "      <td>4.761905</td>\n",
              "      <td>5.924875</td>\n",
              "      <td>5.50000</td>\n",
              "    </tr>\n",
              "    <tr>\n",
              "      <th>50%</th>\n",
              "      <td>55.230000</td>\n",
              "      <td>5.000000</td>\n",
              "      <td>12.088000</td>\n",
              "      <td>253.848000</td>\n",
              "      <td>241.76000</td>\n",
              "      <td>4.761905</td>\n",
              "      <td>12.088000</td>\n",
              "      <td>7.00000</td>\n",
              "    </tr>\n",
              "    <tr>\n",
              "      <th>75%</th>\n",
              "      <td>77.935000</td>\n",
              "      <td>8.000000</td>\n",
              "      <td>22.445250</td>\n",
              "      <td>471.350250</td>\n",
              "      <td>448.90500</td>\n",
              "      <td>4.761905</td>\n",
              "      <td>22.445250</td>\n",
              "      <td>8.50000</td>\n",
              "    </tr>\n",
              "    <tr>\n",
              "      <th>max</th>\n",
              "      <td>99.960000</td>\n",
              "      <td>10.000000</td>\n",
              "      <td>49.650000</td>\n",
              "      <td>1042.650000</td>\n",
              "      <td>993.00000</td>\n",
              "      <td>4.761905</td>\n",
              "      <td>49.650000</td>\n",
              "      <td>10.00000</td>\n",
              "    </tr>\n",
              "  </tbody>\n",
              "</table>\n",
              "</div>\n",
              "      <button class=\"colab-df-convert\" onclick=\"convertToInteractive('df-5a643493-7edb-4f14-8c50-1cbd16e76c27')\"\n",
              "              title=\"Convert this dataframe to an interactive table.\"\n",
              "              style=\"display:none;\">\n",
              "        \n",
              "  <svg xmlns=\"http://www.w3.org/2000/svg\" height=\"24px\"viewBox=\"0 0 24 24\"\n",
              "       width=\"24px\">\n",
              "    <path d=\"M0 0h24v24H0V0z\" fill=\"none\"/>\n",
              "    <path d=\"M18.56 5.44l.94 2.06.94-2.06 2.06-.94-2.06-.94-.94-2.06-.94 2.06-2.06.94zm-11 1L8.5 8.5l.94-2.06 2.06-.94-2.06-.94L8.5 2.5l-.94 2.06-2.06.94zm10 10l.94 2.06.94-2.06 2.06-.94-2.06-.94-.94-2.06-.94 2.06-2.06.94z\"/><path d=\"M17.41 7.96l-1.37-1.37c-.4-.4-.92-.59-1.43-.59-.52 0-1.04.2-1.43.59L10.3 9.45l-7.72 7.72c-.78.78-.78 2.05 0 2.83L4 21.41c.39.39.9.59 1.41.59.51 0 1.02-.2 1.41-.59l7.78-7.78 2.81-2.81c.8-.78.8-2.07 0-2.86zM5.41 20L4 18.59l7.72-7.72 1.47 1.35L5.41 20z\"/>\n",
              "  </svg>\n",
              "      </button>\n",
              "      \n",
              "  <style>\n",
              "    .colab-df-container {\n",
              "      display:flex;\n",
              "      flex-wrap:wrap;\n",
              "      gap: 12px;\n",
              "    }\n",
              "\n",
              "    .colab-df-convert {\n",
              "      background-color: #E8F0FE;\n",
              "      border: none;\n",
              "      border-radius: 50%;\n",
              "      cursor: pointer;\n",
              "      display: none;\n",
              "      fill: #1967D2;\n",
              "      height: 32px;\n",
              "      padding: 0 0 0 0;\n",
              "      width: 32px;\n",
              "    }\n",
              "\n",
              "    .colab-df-convert:hover {\n",
              "      background-color: #E2EBFA;\n",
              "      box-shadow: 0px 1px 2px rgba(60, 64, 67, 0.3), 0px 1px 3px 1px rgba(60, 64, 67, 0.15);\n",
              "      fill: #174EA6;\n",
              "    }\n",
              "\n",
              "    [theme=dark] .colab-df-convert {\n",
              "      background-color: #3B4455;\n",
              "      fill: #D2E3FC;\n",
              "    }\n",
              "\n",
              "    [theme=dark] .colab-df-convert:hover {\n",
              "      background-color: #434B5C;\n",
              "      box-shadow: 0px 1px 3px 1px rgba(0, 0, 0, 0.15);\n",
              "      filter: drop-shadow(0px 1px 2px rgba(0, 0, 0, 0.3));\n",
              "      fill: #FFFFFF;\n",
              "    }\n",
              "  </style>\n",
              "\n",
              "      <script>\n",
              "        const buttonEl =\n",
              "          document.querySelector('#df-5a643493-7edb-4f14-8c50-1cbd16e76c27 button.colab-df-convert');\n",
              "        buttonEl.style.display =\n",
              "          google.colab.kernel.accessAllowed ? 'block' : 'none';\n",
              "\n",
              "        async function convertToInteractive(key) {\n",
              "          const element = document.querySelector('#df-5a643493-7edb-4f14-8c50-1cbd16e76c27');\n",
              "          const dataTable =\n",
              "            await google.colab.kernel.invokeFunction('convertToInteractive',\n",
              "                                                     [key], {});\n",
              "          if (!dataTable) return;\n",
              "\n",
              "          const docLinkHtml = 'Like what you see? Visit the ' +\n",
              "            '<a target=\"_blank\" href=https://colab.research.google.com/notebooks/data_table.ipynb>data table notebook</a>'\n",
              "            + ' to learn more about interactive tables.';\n",
              "          element.innerHTML = '';\n",
              "          dataTable['output_type'] = 'display_data';\n",
              "          await google.colab.output.renderOutput(dataTable, element);\n",
              "          const docLink = document.createElement('div');\n",
              "          docLink.innerHTML = docLinkHtml;\n",
              "          element.appendChild(docLink);\n",
              "        }\n",
              "      </script>\n",
              "    </div>\n",
              "  </div>\n",
              "  "
            ]
          },
          "metadata": {},
          "execution_count": 312
        }
      ]
    },
    {
      "cell_type": "code",
      "source": [
        "data.isnull().sum()"
      ],
      "metadata": {
        "colab": {
          "base_uri": "https://localhost:8080/"
        },
        "id": "DsHLTIXTcUuc",
        "outputId": "a875709d-405b-4308-f129-3cfe951e4246"
      },
      "execution_count": 313,
      "outputs": [
        {
          "output_type": "execute_result",
          "data": {
            "text/plain": [
              "Invoice ID                 0\n",
              "Branch                     0\n",
              "City                       0\n",
              "Customer type              0\n",
              "Gender                     0\n",
              "Product line               0\n",
              "Unit price                 0\n",
              "Quantity                   0\n",
              "Tax 5%                     0\n",
              "Total                      0\n",
              "Date                       0\n",
              "Time                       0\n",
              "Payment                    0\n",
              "cogs                       0\n",
              "gross margin percentage    0\n",
              "gross income               0\n",
              "Rating                     0\n",
              "dtype: int64"
            ]
          },
          "metadata": {},
          "execution_count": 313
        }
      ]
    },
    {
      "cell_type": "markdown",
      "source": [
        "# Data Preprocessing"
      ],
      "metadata": {
        "id": "vjSzBf7rHGhZ"
      }
    },
    {
      "cell_type": "code",
      "source": [
        "# Check for duplicates based on Invoice ID\n",
        "duplicates = data.duplicated(subset=['Invoice ID'])\n",
        "\n",
        "# Print the number of duplicates\n",
        "print(\"Number of duplicates:\", duplicates.sum())"
      ],
      "metadata": {
        "colab": {
          "base_uri": "https://localhost:8080/"
        },
        "id": "N2-F1u5afoiv",
        "outputId": "b3d189df-9db6-4454-f8b9-54c4f96720e6"
      },
      "execution_count": 337,
      "outputs": [
        {
          "output_type": "stream",
          "name": "stdout",
          "text": [
            "Number of duplicates: 0\n"
          ]
        }
      ]
    },
    {
      "cell_type": "code",
      "source": [
        "# Convert date column to datetime format\n",
        "data['Date'] = pd.to_datetime(data['Date'])\n",
        "\n",
        "# Identify rows with date format issues\n",
        "date_errors = data.loc[data['Date'].isnull(), 'Date']\n",
        "\n",
        "# Print the rows with date format issues\n",
        "print(date_errors)\n"
      ],
      "metadata": {
        "colab": {
          "base_uri": "https://localhost:8080/"
        },
        "id": "rfJc6teLHtY4",
        "outputId": "73a58a8a-e873-49cf-895d-964aa9ef1899"
      },
      "execution_count": 314,
      "outputs": [
        {
          "output_type": "stream",
          "name": "stdout",
          "text": [
            "Series([], Name: Date, dtype: datetime64[ns])\n"
          ]
        }
      ]
    },
    {
      "cell_type": "code",
      "source": [
        "data['Date'].head"
      ],
      "metadata": {
        "colab": {
          "base_uri": "https://localhost:8080/"
        },
        "id": "wnRCorUuHugX",
        "outputId": "a2f87eef-bf18-4f86-e002-c3e1d021b37b"
      },
      "execution_count": 315,
      "outputs": [
        {
          "output_type": "execute_result",
          "data": {
            "text/plain": [
              "<bound method NDFrame.head of 0     2019-01-05\n",
              "1     2019-03-08\n",
              "2     2019-03-03\n",
              "3     2019-01-27\n",
              "4     2019-02-08\n",
              "         ...    \n",
              "995   2019-01-29\n",
              "996   2019-03-02\n",
              "997   2019-02-09\n",
              "998   2019-02-22\n",
              "999   2019-02-18\n",
              "Name: Date, Length: 1000, dtype: datetime64[ns]>"
            ]
          },
          "metadata": {},
          "execution_count": 315
        }
      ]
    },
    {
      "cell_type": "code",
      "source": [
        "data = data.sort_values(by=['Date', 'Time'])"
      ],
      "metadata": {
        "id": "byk6awpjH15P"
      },
      "execution_count": 316,
      "outputs": []
    },
    {
      "cell_type": "code",
      "source": [
        "data.head()"
      ],
      "metadata": {
        "colab": {
          "base_uri": "https://localhost:8080/",
          "height": 391
        },
        "id": "pFLVWH-cH3VA",
        "outputId": "aa52a636-5e82-482d-feb2-ba80489f1f57"
      },
      "execution_count": 317,
      "outputs": [
        {
          "output_type": "execute_result",
          "data": {
            "text/plain": [
              "      Invoice ID Branch       City Customer type  Gender         Product line  \\\n",
              "17   765-26-6951      A     Yangon        Normal    Male    Sports and travel   \n",
              "970  746-04-1077      B   Mandalay        Member  Female   Food and beverages   \n",
              "839  271-77-8740      C  Naypyitaw        Member  Female    Sports and travel   \n",
              "523  133-14-7229      C  Naypyitaw        Normal    Male    Health and beauty   \n",
              "567  651-88-7328      A     Yangon        Normal  Female  Fashion accessories   \n",
              "\n",
              "     Unit price  Quantity  Tax 5%    Total       Date   Time      Payment  \\\n",
              "17        72.61         6  21.783  457.443 2019-01-01  10:39  Credit card   \n",
              "970       84.63        10  42.315  888.615 2019-01-01  11:36  Credit card   \n",
              "839       29.22         6   8.766  184.086 2019-01-01  11:40      Ewallet   \n",
              "523       62.87         2   6.287  132.027 2019-01-01  11:43         Cash   \n",
              "567       65.74         9  29.583  621.243 2019-01-01  13:55         Cash   \n",
              "\n",
              "       cogs  gross margin percentage  gross income  Rating  \n",
              "17   435.66                 4.761905        21.783     6.9  \n",
              "970  846.30                 4.761905        42.315     9.0  \n",
              "839  175.32                 4.761905         8.766     5.0  \n",
              "523  125.74                 4.761905         6.287     5.0  \n",
              "567  591.66                 4.761905        29.583     7.7  "
            ],
            "text/html": [
              "\n",
              "  <div id=\"df-8295af97-c078-467e-878b-12aac930ab2f\">\n",
              "    <div class=\"colab-df-container\">\n",
              "      <div>\n",
              "<style scoped>\n",
              "    .dataframe tbody tr th:only-of-type {\n",
              "        vertical-align: middle;\n",
              "    }\n",
              "\n",
              "    .dataframe tbody tr th {\n",
              "        vertical-align: top;\n",
              "    }\n",
              "\n",
              "    .dataframe thead th {\n",
              "        text-align: right;\n",
              "    }\n",
              "</style>\n",
              "<table border=\"1\" class=\"dataframe\">\n",
              "  <thead>\n",
              "    <tr style=\"text-align: right;\">\n",
              "      <th></th>\n",
              "      <th>Invoice ID</th>\n",
              "      <th>Branch</th>\n",
              "      <th>City</th>\n",
              "      <th>Customer type</th>\n",
              "      <th>Gender</th>\n",
              "      <th>Product line</th>\n",
              "      <th>Unit price</th>\n",
              "      <th>Quantity</th>\n",
              "      <th>Tax 5%</th>\n",
              "      <th>Total</th>\n",
              "      <th>Date</th>\n",
              "      <th>Time</th>\n",
              "      <th>Payment</th>\n",
              "      <th>cogs</th>\n",
              "      <th>gross margin percentage</th>\n",
              "      <th>gross income</th>\n",
              "      <th>Rating</th>\n",
              "    </tr>\n",
              "  </thead>\n",
              "  <tbody>\n",
              "    <tr>\n",
              "      <th>17</th>\n",
              "      <td>765-26-6951</td>\n",
              "      <td>A</td>\n",
              "      <td>Yangon</td>\n",
              "      <td>Normal</td>\n",
              "      <td>Male</td>\n",
              "      <td>Sports and travel</td>\n",
              "      <td>72.61</td>\n",
              "      <td>6</td>\n",
              "      <td>21.783</td>\n",
              "      <td>457.443</td>\n",
              "      <td>2019-01-01</td>\n",
              "      <td>10:39</td>\n",
              "      <td>Credit card</td>\n",
              "      <td>435.66</td>\n",
              "      <td>4.761905</td>\n",
              "      <td>21.783</td>\n",
              "      <td>6.9</td>\n",
              "    </tr>\n",
              "    <tr>\n",
              "      <th>970</th>\n",
              "      <td>746-04-1077</td>\n",
              "      <td>B</td>\n",
              "      <td>Mandalay</td>\n",
              "      <td>Member</td>\n",
              "      <td>Female</td>\n",
              "      <td>Food and beverages</td>\n",
              "      <td>84.63</td>\n",
              "      <td>10</td>\n",
              "      <td>42.315</td>\n",
              "      <td>888.615</td>\n",
              "      <td>2019-01-01</td>\n",
              "      <td>11:36</td>\n",
              "      <td>Credit card</td>\n",
              "      <td>846.30</td>\n",
              "      <td>4.761905</td>\n",
              "      <td>42.315</td>\n",
              "      <td>9.0</td>\n",
              "    </tr>\n",
              "    <tr>\n",
              "      <th>839</th>\n",
              "      <td>271-77-8740</td>\n",
              "      <td>C</td>\n",
              "      <td>Naypyitaw</td>\n",
              "      <td>Member</td>\n",
              "      <td>Female</td>\n",
              "      <td>Sports and travel</td>\n",
              "      <td>29.22</td>\n",
              "      <td>6</td>\n",
              "      <td>8.766</td>\n",
              "      <td>184.086</td>\n",
              "      <td>2019-01-01</td>\n",
              "      <td>11:40</td>\n",
              "      <td>Ewallet</td>\n",
              "      <td>175.32</td>\n",
              "      <td>4.761905</td>\n",
              "      <td>8.766</td>\n",
              "      <td>5.0</td>\n",
              "    </tr>\n",
              "    <tr>\n",
              "      <th>523</th>\n",
              "      <td>133-14-7229</td>\n",
              "      <td>C</td>\n",
              "      <td>Naypyitaw</td>\n",
              "      <td>Normal</td>\n",
              "      <td>Male</td>\n",
              "      <td>Health and beauty</td>\n",
              "      <td>62.87</td>\n",
              "      <td>2</td>\n",
              "      <td>6.287</td>\n",
              "      <td>132.027</td>\n",
              "      <td>2019-01-01</td>\n",
              "      <td>11:43</td>\n",
              "      <td>Cash</td>\n",
              "      <td>125.74</td>\n",
              "      <td>4.761905</td>\n",
              "      <td>6.287</td>\n",
              "      <td>5.0</td>\n",
              "    </tr>\n",
              "    <tr>\n",
              "      <th>567</th>\n",
              "      <td>651-88-7328</td>\n",
              "      <td>A</td>\n",
              "      <td>Yangon</td>\n",
              "      <td>Normal</td>\n",
              "      <td>Female</td>\n",
              "      <td>Fashion accessories</td>\n",
              "      <td>65.74</td>\n",
              "      <td>9</td>\n",
              "      <td>29.583</td>\n",
              "      <td>621.243</td>\n",
              "      <td>2019-01-01</td>\n",
              "      <td>13:55</td>\n",
              "      <td>Cash</td>\n",
              "      <td>591.66</td>\n",
              "      <td>4.761905</td>\n",
              "      <td>29.583</td>\n",
              "      <td>7.7</td>\n",
              "    </tr>\n",
              "  </tbody>\n",
              "</table>\n",
              "</div>\n",
              "      <button class=\"colab-df-convert\" onclick=\"convertToInteractive('df-8295af97-c078-467e-878b-12aac930ab2f')\"\n",
              "              title=\"Convert this dataframe to an interactive table.\"\n",
              "              style=\"display:none;\">\n",
              "        \n",
              "  <svg xmlns=\"http://www.w3.org/2000/svg\" height=\"24px\"viewBox=\"0 0 24 24\"\n",
              "       width=\"24px\">\n",
              "    <path d=\"M0 0h24v24H0V0z\" fill=\"none\"/>\n",
              "    <path d=\"M18.56 5.44l.94 2.06.94-2.06 2.06-.94-2.06-.94-.94-2.06-.94 2.06-2.06.94zm-11 1L8.5 8.5l.94-2.06 2.06-.94-2.06-.94L8.5 2.5l-.94 2.06-2.06.94zm10 10l.94 2.06.94-2.06 2.06-.94-2.06-.94-.94-2.06-.94 2.06-2.06.94z\"/><path d=\"M17.41 7.96l-1.37-1.37c-.4-.4-.92-.59-1.43-.59-.52 0-1.04.2-1.43.59L10.3 9.45l-7.72 7.72c-.78.78-.78 2.05 0 2.83L4 21.41c.39.39.9.59 1.41.59.51 0 1.02-.2 1.41-.59l7.78-7.78 2.81-2.81c.8-.78.8-2.07 0-2.86zM5.41 20L4 18.59l7.72-7.72 1.47 1.35L5.41 20z\"/>\n",
              "  </svg>\n",
              "      </button>\n",
              "      \n",
              "  <style>\n",
              "    .colab-df-container {\n",
              "      display:flex;\n",
              "      flex-wrap:wrap;\n",
              "      gap: 12px;\n",
              "    }\n",
              "\n",
              "    .colab-df-convert {\n",
              "      background-color: #E8F0FE;\n",
              "      border: none;\n",
              "      border-radius: 50%;\n",
              "      cursor: pointer;\n",
              "      display: none;\n",
              "      fill: #1967D2;\n",
              "      height: 32px;\n",
              "      padding: 0 0 0 0;\n",
              "      width: 32px;\n",
              "    }\n",
              "\n",
              "    .colab-df-convert:hover {\n",
              "      background-color: #E2EBFA;\n",
              "      box-shadow: 0px 1px 2px rgba(60, 64, 67, 0.3), 0px 1px 3px 1px rgba(60, 64, 67, 0.15);\n",
              "      fill: #174EA6;\n",
              "    }\n",
              "\n",
              "    [theme=dark] .colab-df-convert {\n",
              "      background-color: #3B4455;\n",
              "      fill: #D2E3FC;\n",
              "    }\n",
              "\n",
              "    [theme=dark] .colab-df-convert:hover {\n",
              "      background-color: #434B5C;\n",
              "      box-shadow: 0px 1px 3px 1px rgba(0, 0, 0, 0.15);\n",
              "      filter: drop-shadow(0px 1px 2px rgba(0, 0, 0, 0.3));\n",
              "      fill: #FFFFFF;\n",
              "    }\n",
              "  </style>\n",
              "\n",
              "      <script>\n",
              "        const buttonEl =\n",
              "          document.querySelector('#df-8295af97-c078-467e-878b-12aac930ab2f button.colab-df-convert');\n",
              "        buttonEl.style.display =\n",
              "          google.colab.kernel.accessAllowed ? 'block' : 'none';\n",
              "\n",
              "        async function convertToInteractive(key) {\n",
              "          const element = document.querySelector('#df-8295af97-c078-467e-878b-12aac930ab2f');\n",
              "          const dataTable =\n",
              "            await google.colab.kernel.invokeFunction('convertToInteractive',\n",
              "                                                     [key], {});\n",
              "          if (!dataTable) return;\n",
              "\n",
              "          const docLinkHtml = 'Like what you see? Visit the ' +\n",
              "            '<a target=\"_blank\" href=https://colab.research.google.com/notebooks/data_table.ipynb>data table notebook</a>'\n",
              "            + ' to learn more about interactive tables.';\n",
              "          element.innerHTML = '';\n",
              "          dataTable['output_type'] = 'display_data';\n",
              "          await google.colab.output.renderOutput(dataTable, element);\n",
              "          const docLink = document.createElement('div');\n",
              "          docLink.innerHTML = docLinkHtml;\n",
              "          element.appendChild(docLink);\n",
              "        }\n",
              "      </script>\n",
              "    </div>\n",
              "  </div>\n",
              "  "
            ]
          },
          "metadata": {},
          "execution_count": 317
        }
      ]
    },
    {
      "cell_type": "code",
      "source": [
        "data.tail()"
      ],
      "metadata": {
        "colab": {
          "base_uri": "https://localhost:8080/",
          "height": 391
        },
        "id": "UZOiV0_UH4mo",
        "outputId": "ab5bdc2c-771b-4651-c3f6-4debf7b36962"
      },
      "execution_count": 318,
      "outputs": [
        {
          "output_type": "execute_result",
          "data": {
            "text/plain": [
              "      Invoice ID Branch       City Customer type  Gender  \\\n",
              "671  642-61-4706      B   Mandalay        Member    Male   \n",
              "474  676-39-6028      A     Yangon        Member  Female   \n",
              "473  731-59-7531      B   Mandalay        Member    Male   \n",
              "643  131-15-8856      C  Naypyitaw        Member  Female   \n",
              "963  364-34-2972      C  Naypyitaw        Member    Male   \n",
              "\n",
              "               Product line  Unit price  Quantity  Tax 5%    Total       Date  \\\n",
              "671      Food and beverages       93.40         2   9.340  196.140 2019-03-30   \n",
              "474  Electronic accessories       64.44         5  16.110  338.310 2019-03-30   \n",
              "473       Health and beauty       72.57         8  29.028  609.588 2019-03-30   \n",
              "643      Food and beverages       72.52         8  29.008  609.168 2019-03-30   \n",
              "963  Electronic accessories       96.82         3  14.523  304.983 2019-03-30   \n",
              "\n",
              "      Time      Payment    cogs  gross margin percentage  gross income  Rating  \n",
              "671  16:34         Cash  186.80                 4.761905         9.340     5.5  \n",
              "474  17:04         Cash  322.20                 4.761905        16.110     6.6  \n",
              "473  17:58         Cash  580.56                 4.761905        29.028     4.6  \n",
              "643  19:26  Credit card  580.16                 4.761905        29.008     4.0  \n",
              "963  20:37         Cash  290.46                 4.761905        14.523     6.7  "
            ],
            "text/html": [
              "\n",
              "  <div id=\"df-f64679db-64f2-4ed0-824c-1e20fd511e49\">\n",
              "    <div class=\"colab-df-container\">\n",
              "      <div>\n",
              "<style scoped>\n",
              "    .dataframe tbody tr th:only-of-type {\n",
              "        vertical-align: middle;\n",
              "    }\n",
              "\n",
              "    .dataframe tbody tr th {\n",
              "        vertical-align: top;\n",
              "    }\n",
              "\n",
              "    .dataframe thead th {\n",
              "        text-align: right;\n",
              "    }\n",
              "</style>\n",
              "<table border=\"1\" class=\"dataframe\">\n",
              "  <thead>\n",
              "    <tr style=\"text-align: right;\">\n",
              "      <th></th>\n",
              "      <th>Invoice ID</th>\n",
              "      <th>Branch</th>\n",
              "      <th>City</th>\n",
              "      <th>Customer type</th>\n",
              "      <th>Gender</th>\n",
              "      <th>Product line</th>\n",
              "      <th>Unit price</th>\n",
              "      <th>Quantity</th>\n",
              "      <th>Tax 5%</th>\n",
              "      <th>Total</th>\n",
              "      <th>Date</th>\n",
              "      <th>Time</th>\n",
              "      <th>Payment</th>\n",
              "      <th>cogs</th>\n",
              "      <th>gross margin percentage</th>\n",
              "      <th>gross income</th>\n",
              "      <th>Rating</th>\n",
              "    </tr>\n",
              "  </thead>\n",
              "  <tbody>\n",
              "    <tr>\n",
              "      <th>671</th>\n",
              "      <td>642-61-4706</td>\n",
              "      <td>B</td>\n",
              "      <td>Mandalay</td>\n",
              "      <td>Member</td>\n",
              "      <td>Male</td>\n",
              "      <td>Food and beverages</td>\n",
              "      <td>93.40</td>\n",
              "      <td>2</td>\n",
              "      <td>9.340</td>\n",
              "      <td>196.140</td>\n",
              "      <td>2019-03-30</td>\n",
              "      <td>16:34</td>\n",
              "      <td>Cash</td>\n",
              "      <td>186.80</td>\n",
              "      <td>4.761905</td>\n",
              "      <td>9.340</td>\n",
              "      <td>5.5</td>\n",
              "    </tr>\n",
              "    <tr>\n",
              "      <th>474</th>\n",
              "      <td>676-39-6028</td>\n",
              "      <td>A</td>\n",
              "      <td>Yangon</td>\n",
              "      <td>Member</td>\n",
              "      <td>Female</td>\n",
              "      <td>Electronic accessories</td>\n",
              "      <td>64.44</td>\n",
              "      <td>5</td>\n",
              "      <td>16.110</td>\n",
              "      <td>338.310</td>\n",
              "      <td>2019-03-30</td>\n",
              "      <td>17:04</td>\n",
              "      <td>Cash</td>\n",
              "      <td>322.20</td>\n",
              "      <td>4.761905</td>\n",
              "      <td>16.110</td>\n",
              "      <td>6.6</td>\n",
              "    </tr>\n",
              "    <tr>\n",
              "      <th>473</th>\n",
              "      <td>731-59-7531</td>\n",
              "      <td>B</td>\n",
              "      <td>Mandalay</td>\n",
              "      <td>Member</td>\n",
              "      <td>Male</td>\n",
              "      <td>Health and beauty</td>\n",
              "      <td>72.57</td>\n",
              "      <td>8</td>\n",
              "      <td>29.028</td>\n",
              "      <td>609.588</td>\n",
              "      <td>2019-03-30</td>\n",
              "      <td>17:58</td>\n",
              "      <td>Cash</td>\n",
              "      <td>580.56</td>\n",
              "      <td>4.761905</td>\n",
              "      <td>29.028</td>\n",
              "      <td>4.6</td>\n",
              "    </tr>\n",
              "    <tr>\n",
              "      <th>643</th>\n",
              "      <td>131-15-8856</td>\n",
              "      <td>C</td>\n",
              "      <td>Naypyitaw</td>\n",
              "      <td>Member</td>\n",
              "      <td>Female</td>\n",
              "      <td>Food and beverages</td>\n",
              "      <td>72.52</td>\n",
              "      <td>8</td>\n",
              "      <td>29.008</td>\n",
              "      <td>609.168</td>\n",
              "      <td>2019-03-30</td>\n",
              "      <td>19:26</td>\n",
              "      <td>Credit card</td>\n",
              "      <td>580.16</td>\n",
              "      <td>4.761905</td>\n",
              "      <td>29.008</td>\n",
              "      <td>4.0</td>\n",
              "    </tr>\n",
              "    <tr>\n",
              "      <th>963</th>\n",
              "      <td>364-34-2972</td>\n",
              "      <td>C</td>\n",
              "      <td>Naypyitaw</td>\n",
              "      <td>Member</td>\n",
              "      <td>Male</td>\n",
              "      <td>Electronic accessories</td>\n",
              "      <td>96.82</td>\n",
              "      <td>3</td>\n",
              "      <td>14.523</td>\n",
              "      <td>304.983</td>\n",
              "      <td>2019-03-30</td>\n",
              "      <td>20:37</td>\n",
              "      <td>Cash</td>\n",
              "      <td>290.46</td>\n",
              "      <td>4.761905</td>\n",
              "      <td>14.523</td>\n",
              "      <td>6.7</td>\n",
              "    </tr>\n",
              "  </tbody>\n",
              "</table>\n",
              "</div>\n",
              "      <button class=\"colab-df-convert\" onclick=\"convertToInteractive('df-f64679db-64f2-4ed0-824c-1e20fd511e49')\"\n",
              "              title=\"Convert this dataframe to an interactive table.\"\n",
              "              style=\"display:none;\">\n",
              "        \n",
              "  <svg xmlns=\"http://www.w3.org/2000/svg\" height=\"24px\"viewBox=\"0 0 24 24\"\n",
              "       width=\"24px\">\n",
              "    <path d=\"M0 0h24v24H0V0z\" fill=\"none\"/>\n",
              "    <path d=\"M18.56 5.44l.94 2.06.94-2.06 2.06-.94-2.06-.94-.94-2.06-.94 2.06-2.06.94zm-11 1L8.5 8.5l.94-2.06 2.06-.94-2.06-.94L8.5 2.5l-.94 2.06-2.06.94zm10 10l.94 2.06.94-2.06 2.06-.94-2.06-.94-.94-2.06-.94 2.06-2.06.94z\"/><path d=\"M17.41 7.96l-1.37-1.37c-.4-.4-.92-.59-1.43-.59-.52 0-1.04.2-1.43.59L10.3 9.45l-7.72 7.72c-.78.78-.78 2.05 0 2.83L4 21.41c.39.39.9.59 1.41.59.51 0 1.02-.2 1.41-.59l7.78-7.78 2.81-2.81c.8-.78.8-2.07 0-2.86zM5.41 20L4 18.59l7.72-7.72 1.47 1.35L5.41 20z\"/>\n",
              "  </svg>\n",
              "      </button>\n",
              "      \n",
              "  <style>\n",
              "    .colab-df-container {\n",
              "      display:flex;\n",
              "      flex-wrap:wrap;\n",
              "      gap: 12px;\n",
              "    }\n",
              "\n",
              "    .colab-df-convert {\n",
              "      background-color: #E8F0FE;\n",
              "      border: none;\n",
              "      border-radius: 50%;\n",
              "      cursor: pointer;\n",
              "      display: none;\n",
              "      fill: #1967D2;\n",
              "      height: 32px;\n",
              "      padding: 0 0 0 0;\n",
              "      width: 32px;\n",
              "    }\n",
              "\n",
              "    .colab-df-convert:hover {\n",
              "      background-color: #E2EBFA;\n",
              "      box-shadow: 0px 1px 2px rgba(60, 64, 67, 0.3), 0px 1px 3px 1px rgba(60, 64, 67, 0.15);\n",
              "      fill: #174EA6;\n",
              "    }\n",
              "\n",
              "    [theme=dark] .colab-df-convert {\n",
              "      background-color: #3B4455;\n",
              "      fill: #D2E3FC;\n",
              "    }\n",
              "\n",
              "    [theme=dark] .colab-df-convert:hover {\n",
              "      background-color: #434B5C;\n",
              "      box-shadow: 0px 1px 3px 1px rgba(0, 0, 0, 0.15);\n",
              "      filter: drop-shadow(0px 1px 2px rgba(0, 0, 0, 0.3));\n",
              "      fill: #FFFFFF;\n",
              "    }\n",
              "  </style>\n",
              "\n",
              "      <script>\n",
              "        const buttonEl =\n",
              "          document.querySelector('#df-f64679db-64f2-4ed0-824c-1e20fd511e49 button.colab-df-convert');\n",
              "        buttonEl.style.display =\n",
              "          google.colab.kernel.accessAllowed ? 'block' : 'none';\n",
              "\n",
              "        async function convertToInteractive(key) {\n",
              "          const element = document.querySelector('#df-f64679db-64f2-4ed0-824c-1e20fd511e49');\n",
              "          const dataTable =\n",
              "            await google.colab.kernel.invokeFunction('convertToInteractive',\n",
              "                                                     [key], {});\n",
              "          if (!dataTable) return;\n",
              "\n",
              "          const docLinkHtml = 'Like what you see? Visit the ' +\n",
              "            '<a target=\"_blank\" href=https://colab.research.google.com/notebooks/data_table.ipynb>data table notebook</a>'\n",
              "            + ' to learn more about interactive tables.';\n",
              "          element.innerHTML = '';\n",
              "          dataTable['output_type'] = 'display_data';\n",
              "          await google.colab.output.renderOutput(dataTable, element);\n",
              "          const docLink = document.createElement('div');\n",
              "          docLink.innerHTML = docLinkHtml;\n",
              "          element.appendChild(docLink);\n",
              "        }\n",
              "      </script>\n",
              "    </div>\n",
              "  </div>\n",
              "  "
            ]
          },
          "metadata": {},
          "execution_count": 318
        }
      ]
    },
    {
      "cell_type": "markdown",
      "source": [
        "#Data Exploration"
      ],
      "metadata": {
        "id": "2NIkiIPqqF3o"
      }
    },
    {
      "cell_type": "code",
      "source": [
        "#create a histogram of the \"Unit price\" \n",
        "fig = plt.figure(figsize=(8,5))\n",
        "sns.histplot(data['Unit price'])\n",
        "plt.show()\n",
        "\n",
        "# Calculate the total sales for each product line in each city\n",
        "sales_by_city_product_line = data.groupby([\"City\", \"Product line\"])[\"Total\"].sum().reset_index()\n",
        "\n",
        "\"\"\"The reset_index() method is applied to the result of the groupby() operation, which generates a new DataFrame \n",
        "with a multi-level index based on the grouping columns (\"City\" and \"Product line\"). The original DataFrame data remains unchanged. \n",
        "The new DataFrame with the total sales for each product line in each city is stored in the variable sales_by_city_product_line.\"\"\"\n",
        "\n",
        "# Create a bar plot of the total sales for each product line in each city\n",
        "plt.figure(figsize=(15, 6))\n",
        "sns.barplot(data=sales_by_city_product_line, x='Product line', y='Total', hue='City')\n",
        "plt.show()\n",
        "\n",
        "# Create a bax plot of the average bill value for each city\n",
        "fig = plt.figure(figsize=(8,5))\n",
        "sns.boxplot(data=data, x='City', y='Total')\n",
        "plt.show()\n"
      ],
      "metadata": {
        "colab": {
          "base_uri": "https://localhost:8080/",
          "height": 1000
        },
        "id": "T-bWCkretIgV",
        "outputId": "8305ad16-4fa3-4b7e-832f-e8f67234a4de"
      },
      "execution_count": 319,
      "outputs": [
        {
          "output_type": "display_data",
          "data": {
            "text/plain": [
              "<Figure size 576x360 with 1 Axes>"
            ],
            "image/png": "[encoded data removed]"
          },
          "metadata": {
            "needs_background": "light"
          }
        },
        {
          "output_type": "display_data",
          "data": {
            "text/plain": [
              "<Figure size 1080x432 with 1 Axes>"
            ],
            "image/png": "[encoded data removed]"
          },
          "metadata": {
            "needs_background": "light"
          }
        },
        {
          "output_type": "display_data",
          "data": {
            "text/plain": [
              "<Figure size 576x360 with 1 Axes>"
            ],
            "image/png": "[encoded data removed]"
          },
          "metadata": {
            "needs_background": "light"
          }
        }
      ]
    },
    {
      "cell_type": "code",
      "source": [
        "#Creating new column Month\n",
        "data['Month'] = data['Date'].dt.month\n",
        "\n",
        "# Calculate the total sales for each product line in each city\n",
        "sales_by_city_month = data.groupby([\"City\", \"Month\"])[\"Total\"].sum().reset_index()\n",
        "\n",
        "# Create a bar plot of the total sales for each Month in each city\n",
        "plt.figure(figsize=(15, 6))\n",
        "sns.barplot(data=sales_by_city_month, x='Month', y='Total', hue='City')\n",
        "plt.show()"
      ],
      "metadata": {
        "colab": {
          "base_uri": "https://localhost:8080/",
          "height": 388
        },
        "id": "7LOyZFV6GRWP",
        "outputId": "5e137ee8-9da9-4c16-c5c5-ef09d72ca7f1"
      },
      "execution_count": 320,
      "outputs": [
        {
          "output_type": "display_data",
          "data": {
            "text/plain": [
              "<Figure size 1080x432 with 1 Axes>"
            ],
            "image/png": "[encoded data removed]"
          },
          "metadata": {
            "needs_background": "light"
          }
        }
      ]
    },
    {
      "cell_type": "markdown",
      "source": [
        "#Data Cleaning"
      ],
      "metadata": {
        "id": "6LkiVpndqr-6"
      }
    },
    {
      "cell_type": "code",
      "source": [
        "data.info()"
      ],
      "metadata": {
        "colab": {
          "base_uri": "https://localhost:8080/"
        },
        "id": "0bMNfkcTj1z_",
        "outputId": "dfc964b0-edae-4499-f564-ffc0e90c0812"
      },
      "execution_count": 321,
      "outputs": [
        {
          "output_type": "stream",
          "name": "stdout",
          "text": [
            "<class 'pandas.core.frame.DataFrame'>\n",
            "Int64Index: 1000 entries, 17 to 963\n",
            "Data columns (total 18 columns):\n",
            " #   Column                   Non-Null Count  Dtype         \n",
            "---  ------                   --------------  -----         \n",
            " 0   Invoice ID               1000 non-null   object        \n",
            " 1   Branch                   1000 non-null   object        \n",
            " 2   City                     1000 non-null   object        \n",
            " 3   Customer type            1000 non-null   object        \n",
            " 4   Gender                   1000 non-null   object        \n",
            " 5   Product line             1000 non-null   object        \n",
            " 6   Unit price               1000 non-null   float64       \n",
            " 7   Quantity                 1000 non-null   int64         \n",
            " 8   Tax 5%                   1000 non-null   float64       \n",
            " 9   Total                    1000 non-null   float64       \n",
            " 10  Date                     1000 non-null   datetime64[ns]\n",
            " 11  Time                     1000 non-null   object        \n",
            " 12  Payment                  1000 non-null   object        \n",
            " 13  cogs                     1000 non-null   float64       \n",
            " 14  gross margin percentage  1000 non-null   float64       \n",
            " 15  gross income             1000 non-null   float64       \n",
            " 16  Rating                   1000 non-null   float64       \n",
            " 17  Month                    1000 non-null   int64         \n",
            "dtypes: datetime64[ns](1), float64(7), int64(2), object(8)\n",
            "memory usage: 148.4+ KB\n"
          ]
        }
      ]
    },
    {
      "cell_type": "code",
      "source": [
        "regression_data = data[['City', 'Branch', 'Product line', 'Total', 'Date']]\n",
        "regression_data.head"
      ],
      "metadata": {
        "colab": {
          "base_uri": "https://localhost:8080/"
        },
        "id": "7tQneBOmkq0P",
        "outputId": "753d6510-ca12-4ee3-a1df-3a2856c19596"
      },
      "execution_count": 322,
      "outputs": [
        {
          "output_type": "execute_result",
          "data": {
            "text/plain": [
              "<bound method NDFrame.head of           City Branch            Product line    Total       Date\n",
              "17      Yangon      A       Sports and travel  457.443 2019-01-01\n",
              "970   Mandalay      B      Food and beverages  888.615 2019-01-01\n",
              "839  Naypyitaw      C       Sports and travel  184.086 2019-01-01\n",
              "523  Naypyitaw      C       Health and beauty  132.027 2019-01-01\n",
              "567     Yangon      A     Fashion accessories  621.243 2019-01-01\n",
              "..         ...    ...                     ...      ...        ...\n",
              "671   Mandalay      B      Food and beverages  196.140 2019-03-30\n",
              "474     Yangon      A  Electronic accessories  338.310 2019-03-30\n",
              "473   Mandalay      B       Health and beauty  609.588 2019-03-30\n",
              "643  Naypyitaw      C      Food and beverages  609.168 2019-03-30\n",
              "963  Naypyitaw      C  Electronic accessories  304.983 2019-03-30\n",
              "\n",
              "[1000 rows x 5 columns]>"
            ]
          },
          "metadata": {},
          "execution_count": 322
        }
      ]
    },
    {
      "cell_type": "code",
      "source": [
        "time_series_data = data[['Date', 'Total']]\n",
        "time_series_data.head"
      ],
      "metadata": {
        "id": "t3gFYhLJt767",
        "colab": {
          "base_uri": "https://localhost:8080/"
        },
        "outputId": "a02a164b-513f-40aa-8b88-6f5168837234"
      },
      "execution_count": 323,
      "outputs": [
        {
          "output_type": "execute_result",
          "data": {
            "text/plain": [
              "<bound method NDFrame.head of           Date    Total\n",
              "17  2019-01-01  457.443\n",
              "970 2019-01-01  888.615\n",
              "839 2019-01-01  184.086\n",
              "523 2019-01-01  132.027\n",
              "567 2019-01-01  621.243\n",
              "..         ...      ...\n",
              "671 2019-03-30  196.140\n",
              "474 2019-03-30  338.310\n",
              "473 2019-03-30  609.588\n",
              "643 2019-03-30  609.168\n",
              "963 2019-03-30  304.983\n",
              "\n",
              "[1000 rows x 2 columns]>"
            ]
          },
          "metadata": {},
          "execution_count": 323
        }
      ]
    },
    {
      "cell_type": "markdown",
      "source": [
        "#Regression Analysis"
      ],
      "metadata": {
        "id": "gDzuuzTW3rkT"
      }
    },
    {
      "cell_type": "code",
      "source": [
        "from sklearn.model_selection import train_test_split\n",
        "from sklearn.linear_model import Lasso, Ridge\n",
        "from sklearn.ensemble import RandomForestRegressor\n",
        "from sklearn.model_selection import GridSearchCV\n",
        "from sklearn.ensemble import GradientBoostingRegressor\n",
        "from sklearn.metrics import mean_squared_error, r2_score"
      ],
      "metadata": {
        "id": "eq__QoEnqggY"
      },
      "execution_count": 324,
      "outputs": []
    },
    {
      "cell_type": "code",
      "source": [
        "# Sort the dataframe by date\n",
        "regression_data = regression_data.sort_values('Date')\n",
        "\n",
        "# Set Date column as index\n",
        "regression_data.set_index('Date', inplace=True)\n",
        "\n",
        "# Create dummy variables for categorical features\n",
        "regression_data = pd.get_dummies(regression_data)"
      ],
      "metadata": {
        "id": "DK_ig11Klyxv"
      },
      "execution_count": 325,
      "outputs": []
    },
    {
      "cell_type": "code",
      "source": [
        "# Split the data into training and test sets\n",
        "X = regression_data.drop('Total', axis=1)\n",
        "y = regression_data['Total']\n",
        "X_train, X_test, y_train, y_test = train_test_split(X, y, test_size=0.2, shuffle=False)"
      ],
      "metadata": {
        "id": "ePtZVYE58EQw"
      },
      "execution_count": 326,
      "outputs": []
    },
    {
      "cell_type": "code",
      "source": [
        "# param grid is dictionary \n",
        "# key --> name of parameter to be tuned\n",
        "# value --> list of values which you want to check \n",
        "\n",
        "# Define the parameter grid for lasso\n",
        "param_grid = {'alpha': [0.1, 0.5, 1, 5, 10, 50, 100]}\n",
        "lasso = Lasso()\n",
        "# Perform grid search\n",
        "grid_search_lasso = GridSearchCV(lasso, param_grid, cv=5, scoring='neg_mean_squared_error')\n",
        "grid_search_lasso.fit(X_train, y_train)\n",
        "\n",
        "# Print the best hyperparameters\n",
        "print('Best parameters for lasso:', grid_search_lasso.best_params_)"
      ],
      "metadata": {
        "colab": {
          "base_uri": "https://localhost:8080/"
        },
        "id": "46jGokdv6pvw",
        "outputId": "5062b722-f803-4703-f0df-35a1db94d5c0"
      },
      "execution_count": 327,
      "outputs": [
        {
          "output_type": "stream",
          "name": "stdout",
          "text": [
            "Best parameters for lasso: {'alpha': 10}\n"
          ]
        }
      ]
    },
    {
      "cell_type": "code",
      "source": [
        "# Define the parameter grid for Ridge\n",
        "param_grid = {'alpha': [0.1, 0.5, 1, 5, 10, 50, 100], 'solver': ['auto', 'svd', 'cholesky', 'lsqr', 'sparse_cg', 'sag', 'saga']}\n",
        "ridge = Ridge()\n",
        "# Perform grid search\n",
        "grid_search_Ridge = GridSearchCV(ridge, param_grid, cv=5, scoring='neg_mean_squared_error')\n",
        "grid_search_Ridge.fit(X_train, y_train)\n",
        "\n",
        "# Print the best hyperparameters\n",
        "print('Best parameters Ridge:', grid_search_Ridge.best_params_)\n"
      ],
      "metadata": {
        "colab": {
          "base_uri": "https://localhost:8080/"
        },
        "id": "_s33Ctqj7GMY",
        "outputId": "0b55a005-a7bc-4f74-d94e-3882b8d066cf"
      },
      "execution_count": 328,
      "outputs": [
        {
          "output_type": "stream",
          "name": "stdout",
          "text": [
            "Best parameters Ridge: {'alpha': 100, 'solver': 'sparse_cg'}\n"
          ]
        }
      ]
    },
    {
      "cell_type": "code",
      "source": [
        "# Define the parameter grid for XGBoost\n",
        "param_grid_xg = {'n_estimators' : [ 200,300,500],'max_depth' :[ 4,5,6],'criterion' : ['friedman_mse','squared_error']}\n",
        "gscv_xg =GridSearchCV(estimator = GradientBoostingRegressor(), param_grid = param_grid_xg, cv=2, verbose=2.5)\n",
        "gscv_xg.fit(X_train,y_train)\n",
        "# Print the best hyperparameters\n",
        "print('Best parameters for XGBoost :', gscv_xg.best_params_)"
      ],
      "metadata": {
        "colab": {
          "base_uri": "https://localhost:8080/"
        },
        "id": "CAxwr0Cp8-Bw",
        "outputId": "dda6d8bc-2562-446f-a80f-c100fefaf695"
      },
      "execution_count": 329,
      "outputs": [
        {
          "output_type": "stream",
          "name": "stdout",
          "text": [
            "Fitting 2 folds for each of 18 candidates, totalling 36 fits\n",
            "[CV 1/2] END criterion=friedman_mse, max_depth=4, n_estimators=200;, score=-0.010 total time=   0.2s\n",
            "[CV 2/2] END criterion=friedman_mse, max_depth=4, n_estimators=200;, score=-0.027 total time=   0.2s\n",
            "[CV 1/2] END criterion=friedman_mse, max_depth=4, n_estimators=300;, score=-0.010 total time=   0.3s\n",
            "[CV 2/2] END criterion=friedman_mse, max_depth=4, n_estimators=300;, score=-0.027 total time=   0.3s\n",
            "[CV 1/2] END criterion=friedman_mse, max_depth=4, n_estimators=500;, score=-0.010 total time=   0.4s\n",
            "[CV 2/2] END criterion=friedman_mse, max_depth=4, n_estimators=500;, score=-0.027 total time=   0.3s\n",
            "[CV 1/2] END criterion=friedman_mse, max_depth=5, n_estimators=200;, score=-0.010 total time=   0.1s\n",
            "[CV 2/2] END criterion=friedman_mse, max_depth=5, n_estimators=200;, score=-0.027 total time=   0.1s\n",
            "[CV 1/2] END criterion=friedman_mse, max_depth=5, n_estimators=300;, score=-0.010 total time=   0.2s\n",
            "[CV 2/2] END criterion=friedman_mse, max_depth=5, n_estimators=300;, score=-0.027 total time=   0.2s\n",
            "[CV 1/2] END criterion=friedman_mse, max_depth=5, n_estimators=500;, score=-0.010 total time=   0.3s\n",
            "[CV 2/2] END criterion=friedman_mse, max_depth=5, n_estimators=500;, score=-0.027 total time=   0.3s\n",
            "[CV 1/2] END criterion=friedman_mse, max_depth=6, n_estimators=200;, score=-0.010 total time=   0.1s\n",
            "[CV 2/2] END criterion=friedman_mse, max_depth=6, n_estimators=200;, score=-0.027 total time=   0.1s\n",
            "[CV 1/2] END criterion=friedman_mse, max_depth=6, n_estimators=300;, score=-0.010 total time=   0.2s\n",
            "[CV 2/2] END criterion=friedman_mse, max_depth=6, n_estimators=300;, score=-0.027 total time=   0.2s\n",
            "[CV 1/2] END criterion=friedman_mse, max_depth=6, n_estimators=500;, score=-0.010 total time=   0.4s\n",
            "[CV 2/2] END criterion=friedman_mse, max_depth=6, n_estimators=500;, score=-0.027 total time=   0.3s\n",
            "[CV 1/2] END criterion=squared_error, max_depth=4, n_estimators=200;, score=-0.010 total time=   0.1s\n",
            "[CV 2/2] END criterion=squared_error, max_depth=4, n_estimators=200;, score=-0.027 total time=   0.1s\n",
            "[CV 1/2] END criterion=squared_error, max_depth=4, n_estimators=300;, score=-0.010 total time=   0.2s\n",
            "[CV 2/2] END criterion=squared_error, max_depth=4, n_estimators=300;, score=-0.027 total time=   0.2s\n",
            "[CV 1/2] END criterion=squared_error, max_depth=4, n_estimators=500;, score=-0.010 total time=   0.3s\n",
            "[CV 2/2] END criterion=squared_error, max_depth=4, n_estimators=500;, score=-0.027 total time=   0.3s\n",
            "[CV 1/2] END criterion=squared_error, max_depth=5, n_estimators=200;, score=-0.010 total time=   0.1s\n",
            "[CV 2/2] END criterion=squared_error, max_depth=5, n_estimators=200;, score=-0.027 total time=   0.1s\n",
            "[CV 1/2] END criterion=squared_error, max_depth=5, n_estimators=300;, score=-0.010 total time=   0.2s\n",
            "[CV 2/2] END criterion=squared_error, max_depth=5, n_estimators=300;, score=-0.027 total time=   0.2s\n",
            "[CV 1/2] END criterion=squared_error, max_depth=5, n_estimators=500;, score=-0.010 total time=   0.3s\n",
            "[CV 2/2] END criterion=squared_error, max_depth=5, n_estimators=500;, score=-0.027 total time=   0.3s\n",
            "[CV 1/2] END criterion=squared_error, max_depth=6, n_estimators=200;, score=-0.010 total time=   0.1s\n",
            "[CV 2/2] END criterion=squared_error, max_depth=6, n_estimators=200;, score=-0.027 total time=   0.1s\n",
            "[CV 1/2] END criterion=squared_error, max_depth=6, n_estimators=300;, score=-0.010 total time=   0.2s\n",
            "[CV 2/2] END criterion=squared_error, max_depth=6, n_estimators=300;, score=-0.027 total time=   0.2s\n",
            "[CV 1/2] END criterion=squared_error, max_depth=6, n_estimators=500;, score=-0.010 total time=   0.3s\n",
            "[CV 2/2] END criterion=squared_error, max_depth=6, n_estimators=500;, score=-0.027 total time=   0.3s\n",
            "Best parameters for XGBoost : {'criterion': 'friedman_mse', 'max_depth': 4, 'n_estimators': 200}\n"
          ]
        }
      ]
    },
    {
      "cell_type": "code",
      "source": [
        "# Lasso Regression\n",
        "lasso = Lasso(alpha=10)\n",
        "lasso.fit(X_train, y_train)\n",
        "y_pred_lasso = lasso.predict(X_test)\n",
        "mse_lasso = mean_squared_error(y_test, y_pred_lasso)\n",
        "print(\"Lasso Regression Mean Squared Error: \", mse_lasso)\n",
        "r2_lasso = r2_score(y_test, y_pred_lasso)\n",
        "print(\"Lasso Regression R-Squared value: \", r2_lasso)\n",
        "\n",
        "# Ridge Regression\n",
        "ridge = Ridge(alpha=100,solver='saga')\n",
        "ridge.fit(X_train, y_train)\n",
        "y_pred_ridge = ridge.predict(X_test)\n",
        "mse_ridge = mean_squared_error(y_test, y_pred_ridge)\n",
        "print(\"Ridge Regression Mean Squared Error:\", mse_ridge)\n",
        "r2_ridge = r2_score(y_test, y_pred_ridge)\n",
        "print(\"Ridge Regression R-Squared value: \", r2_ridge)\n",
        "\n",
        "# Random Forest Regression\n",
        "rf = RandomForestRegressor(n_estimators=100, random_state=42)\n",
        "rf.fit(X_train, y_train)\n",
        "y_pred_Random_Forest = rf.predict(X_test)\n",
        "mse_Random_Forest = mean_squared_error(y_test, y_pred_Random_Forest)\n",
        "print(\"Random Forest Regression Mean Squared Error:\", mse_Random_Forest)\n",
        "r2_Random_Forest = r2_score(y_test, y_pred_Random_Forest)\n",
        "print(\"Random Forest Regression R-Squared value: \", r2_Random_Forest)\n",
        "\n",
        "#create XGBoost Regressor\n",
        "gbr=GradientBoostingRegressor(criterion='friedman_mse',n_estimators=200,max_depth=4, random_state=91)\n",
        "gbr.fit(X_train , y_train)\n",
        "y_pred_xg = gbr.predict(X_test)\n",
        "mse_xg = mean_squared_error(y_test, y_pred_xg)\n",
        "print(\"XGBoost Regression Mean Squared Error:\", mse_xg)\n",
        "r2_xg = r2_score(y_test, y_pred_xg)\n",
        "print(\"XGBoost Regression R-Squared value: \", r2_xg)"
      ],
      "metadata": {
        "colab": {
          "base_uri": "https://localhost:8080/"
        },
        "id": "7uAejV7V9uZM",
        "outputId": "adacc8d1-b3bb-4eb9-b841-6bc4a2d8eb3c"
      },
      "execution_count": 330,
      "outputs": [
        {
          "output_type": "stream",
          "name": "stdout",
          "text": [
            "Lasso Regression Mean Squared Error:  58336.4592249768\n",
            "Lasso Regression R-Squared value:  -0.0015855066848109445\n",
            "Ridge Regression Mean Squared Error: 58367.95545478529\n",
            "Ridge Regression R-Squared value:  -0.002126269146408788\n",
            "Random Forest Regression Mean Squared Error: 59392.619244781585\n",
            "Random Forest Regression R-Squared value:  -0.01971884186884787\n",
            "XGBoost Regression Mean Squared Error: 59451.2176442921\n",
            "XGBoost Regression R-Squared value:  -0.020724924659\n"
          ]
        }
      ]
    },
    {
      "cell_type": "markdown",
      "source": [
        "Based on the results of the regression analysis, **Lasso and Ridge** regression models **performed slightly better** than Random Forest and XGBoost. However, the performance of **all the models was not satisfactory** as the mean squared error values were high and the R-squared values were negative, indicating poor fit.\n",
        "\n",
        "Considering the results, it can be concluded that the **available data may not be sufficient** to accurately predict sales using regression analysis. **With more data**, **the code can be used** to train models on larger datasets for **better performance**.\n",
        "\n",
        "It is also worth mentioning that despite the poor performance of the models, **Lasso and Ridge regression may be better suited** for this type of data and could be worth exploring further with more data, because Lasso and Ridge regression are designed to handle high-dimensional data, which means they can effectively handle situations where there are **many features** (such as in this case with several columns) **compared to the number of observations.** With more data, the models can have more information to work with and may perform better. Therefore, it could be worth exploring Lasso and Ridge regression further with more data.\n",
        "\n",
        "Additionally, as mentioned, **time series analysis** using **fbprophet** could be another approach to predicting sales with this dataset."
      ],
      "metadata": {
        "id": "Q05k1mcUBoI5"
      }
    },
    {
      "cell_type": "markdown",
      "source": [
        "# Time Series"
      ],
      "metadata": {
        "id": "woZ8x2TrlgmH"
      }
    },
    {
      "cell_type": "markdown",
      "source": [
        "The choice between ARIMA and SARIMA depends on the characteristics of the time series data, such as trend, seasonality, and level of stationarity. If the data has seasonal patterns, SARIMA is a better choice. If the data has **no clear seasonality, ARIMA is a better choice.**"
      ],
      "metadata": {
        "id": "feX0UGmGJRua"
      }
    },
    {
      "cell_type": "code",
      "source": [
        "\n",
        "from statsmodels.tsa.arima.model import ARIMA"
      ],
      "metadata": {
        "id": "dtWxyjBqxHot"
      },
      "execution_count": 331,
      "outputs": []
    },
    {
      "cell_type": "code",
      "source": [
        "# Sort the dataframe by date\n",
        "time_series_data = time_series_data.sort_values(by='Date')\n",
        "\n",
        "# Set the date column as the index\n",
        "time_series_data.set_index('Date')\n",
        "\n",
        "# Split the data into train and test sets\n",
        "train_data = time_series_data.iloc[:800]\n",
        "test_data = time_series_data.iloc[800:]\n",
        "#train_data contains the first 800 rows of the time_series_data dataframe \n",
        "#test_data contains the rows of the time_series_data dataframe, starting from the 801st row till the end of the dataframe.\n",
        "\n",
        "\n",
        "# Assuming 'df' is the name of the DataFrame variable\n",
        "print(time_series_data.dtypes)\n"
      ],
      "metadata": {
        "id": "17t4i-Bc3iej",
        "colab": {
          "base_uri": "https://localhost:8080/"
        },
        "outputId": "1a26e737-7359-4bfc-9c17-729cc41872d6"
      },
      "execution_count": 332,
      "outputs": [
        {
          "output_type": "stream",
          "name": "stdout",
          "text": [
            "Date     datetime64[ns]\n",
            "Total           float64\n",
            "dtype: object\n"
          ]
        }
      ]
    },
    {
      "cell_type": "code",
      "source": [
        "# Convert the DataFrame to a NumPy array\n",
        "train_data_arr = train_data.to_numpy()\n",
        "train_data_arr = train_data['Total'].values\n"
      ],
      "metadata": {
        "id": "jN8GtQyOTSBM"
      },
      "execution_count": 333,
      "outputs": []
    },
    {
      "cell_type": "code",
      "source": [
        "# Define the ARIMA model\n",
        "model = ARIMA(train_data_arr, order=(1, 1, 1))\n",
        "\n",
        "# Fit the model\n",
        "model_fit = model.fit()\n",
        "\n",
        "# Forecast future values\n",
        "forecast = model_fit.forecast(steps=len(test_data))[0]\n",
        "\n",
        "# Convert the forecast array to a DataFrame\n",
        "forecast_df = pd.DataFrame(forecast, index=test_data.index, columns=['Total'])\n",
        "\n",
        "# Convert the forecast_df and test_data DataFrames to arrays of floats\n",
        "forecast_arr = forecast_df['Total'].to_numpy(dtype=float)\n",
        "test_arr = test_data['Total'].to_numpy(dtype=float)\n",
        "\n",
        "# Calculate the mean squared error\n",
        "mse = mean_squared_error(test_arr, forecast_arr)\n",
        "\n",
        "# Print the mean squared error\n",
        "print('Mean Squared Error:', mse)\n",
        "\n",
        "\n",
        "r2_arima = r2_score(test_arr, forecast_arr)\n",
        "print(\"ARIMA R-Squared value: \", r2_arima)"
      ],
      "metadata": {
        "colab": {
          "base_uri": "https://localhost:8080/"
        },
        "id": "BR-bCgqQPLOt",
        "outputId": "82d92c2d-b9d8-46d5-d683-b7a48bdfa4f4"
      },
      "execution_count": 334,
      "outputs": [
        {
          "output_type": "stream",
          "name": "stdout",
          "text": [
            "Mean Squared Error: 58315.30936441112\n",
            "ARIMA R-Squared value:  -0.0012223822495533998\n"
          ]
        }
      ]
    },
    {
      "cell_type": "markdown",
      "source": [
        "Based on the Mean Squared Error and R-Squared values obtained, it appears that the **performance** of the **ARIMA** model is **slightly better** than the performance of the regression models. However, the R-Squared values for all models are negative, indicating that none of the models are a good fit for the data.\n",
        "\n",
        "Since the data has a seasonal 12-month cycle, it is **difficult to train** the models on just **three months of data**. With **more data**, the models potentially **could be better trained** and provide better results.\n",
        "\n",
        "In conclusion, the ARIMA model shows slightly better performance than the regression models, but all models show poor performance with the limited amount of data available. The models could be improved with more data."
      ],
      "metadata": {
        "id": "Si-zYcFkXuSa"
      }
    },
    {
      "cell_type": "code",
      "source": [
        "#We can use this to save models and reuse\n",
        "\"\"\"import joblib\n",
        "\n",
        "# Save Lasso Regression model\n",
        "joblib.dump(lasso, 'lasso_model.joblib')\n",
        "\n",
        "# Save Ridge Regression model\n",
        "joblib.dump(ridge, 'ridge_model.joblib')\n",
        "\n",
        "# Save Random Forest Regression model\n",
        "joblib.dump(rf, 'rf_model.joblib')\n",
        "\n",
        "# Save XGBoost Regression model\n",
        "joblib.dump(gbr, 'xg_model.joblib')\"\"\"\n",
        "#Once you have loaded the models, you can use them to make predictions on new data using the \"predict\" method of the respective models.\n",
        "\n",
        "\"\"\"\n",
        "# Load Lasso Regression model\n",
        "lasso = joblib.load('lasso_model.joblib')\n",
        "\n",
        "# Load Ridge Regression model\n",
        "ridge = joblib.load('ridge_model.joblib')\n",
        "\n",
        "# Load Random Forest Regression model\n",
        "rf = joblib.load('rf_model.joblib')\n",
        "\n",
        "# Load XGBoost Regression model\n",
        "gbr = joblib.load('xg_model.joblib')\"\"\"\n"
      ],
      "metadata": {
        "colab": {
          "base_uri": "https://localhost:8080/",
          "height": 70
        },
        "id": "UcMxCqpNZMv6",
        "outputId": "00e4be03-f37b-423d-91ce-a12c2f51d7bd"
      },
      "execution_count": 335,
      "outputs": [
        {
          "output_type": "execute_result",
          "data": {
            "text/plain": [
              "\"\\n# Load Lasso Regression model\\nlasso = joblib.load('lasso_model.joblib')\\n\\n# Load Ridge Regression model\\nridge = joblib.load('ridge_model.joblib')\\n\\n# Load Random Forest Regression model\\nrf = joblib.load('rf_model.joblib')\\n\\n# Load XGBoost Regression model\\ngbr = joblib.load('xg_model.joblib')\""
            ],
            "application/vnd.google.colaboratory.intrinsic+json": {
              "type": "string"
            }
          },
          "metadata": {},
          "execution_count": 335
        }
      ]
    }
  ]
}